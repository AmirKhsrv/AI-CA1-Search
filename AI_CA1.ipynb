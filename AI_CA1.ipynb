{
 "cells": [
  {
   "cell_type": "markdown",
   "id": "08fb5280",
   "metadata": {},
   "source": [
    "Amirmohammad Khosravi Esfezar\n",
    "S.N.: 810198386"
   ]
  },
  {
   "cell_type": "markdown",
   "id": "77879af5",
   "metadata": {},
   "source": [
    "Doctor Strange Project:\n",
    "find the best way for Dr.Strange to collect all potions in a temple and deliver them to target."
   ]
  },
  {
   "cell_type": "code",
   "execution_count": 250,
   "id": "029a8ae5",
   "metadata": {},
   "outputs": [],
   "source": [
    "import copy\n",
    "import time\n",
    "import heapq\n",
    "import bisect"
   ]
  },
  {
   "cell_type": "markdown",
   "id": "f117f109",
   "metadata": {},
   "source": [
    "Choosing test case, algorithm and alpha:"
   ]
  },
  {
   "cell_type": "code",
   "execution_count": 251,
   "id": "783d0bc6",
   "metadata": {},
   "outputs": [],
   "source": [
    "algorithms = {1: \"BFS\", 2: \"IDS\", 3: \"ASTAR\"}\n",
    "algoType = 3\n",
    "testNum = 3\n",
    "alpha = 1.5\n",
    "totalSeenStates = 0"
   ]
  },
  {
   "cell_type": "markdown",
   "id": "7f810586",
   "metadata": {},
   "source": [
    "TEST 1 "
   ]
  },
  {
   "cell_type": "markdown",
   "id": "4206122a",
   "metadata": {},
   "source": [
    "| Algorithm | Answer Distance | Seen States Count | Average Run Time\n",
    "| --- | --- | --- | --- |\n",
    "| BFS | 11 | 3818 | 106 ms | \n",
    "| IDS | 11 | 23406 | 573 ms | \n",
    "| A* | 11 | 2359 | 183 ms |\n",
    "| Weighted A* | 11 | 1379 | 112 ms |"
   ]
  },
  {
   "cell_type": "markdown",
   "id": "3c012a4a",
   "metadata": {},
   "source": [
    "TEST 2"
   ]
  },
  {
   "cell_type": "markdown",
   "id": "c2a69336",
   "metadata": {},
   "source": [
    "| Algorithm | Answer Distance | Seen States Count | Average Run Time\n",
    "| --- | --- | --- | --- |\n",
    "| BFS | 11 | 340900 | 10453 ms | \n",
    "| IDS | 11 | 871136 | 27895 ms | \n",
    "| A* | 11 | 16304 | 1307 ms |\n",
    "| Weighted A* | 11 | 7032 | 743 ms |"
   ]
  },
  {
   "cell_type": "markdown",
   "id": "1c8c6e05",
   "metadata": {},
   "source": [
    "TEST 3"
   ]
  },
  {
   "cell_type": "markdown",
   "id": "f534c8bc",
   "metadata": {},
   "source": [
    "| Algorithm | Answer Distance | Seen States Count | Average Run Time\n",
    "| --- | --- | --- | --- |\n",
    "| BFS | 19 | 541191 | 21216 ms | \n",
    "| IDS | 19 | 2255356 | 95689 ms | \n",
    "| A* | 19 | 62040 | 9987 ms |\n",
    "| Weighted A* | 19 | 27258 | 4422 ms |"
   ]
  },
  {
   "cell_type": "markdown",
   "id": "86d92c27",
   "metadata": {},
   "source": [
    "Reading the file: First we read data from file and save it in a 2D array of integers"
   ]
  },
  {
   "cell_type": "code",
   "execution_count": 252,
   "id": "a363b227",
   "metadata": {},
   "outputs": [],
   "source": [
    "def readFile(filePath):\n",
    "    fileData = open(filePath, 'r')\n",
    "    templeDataStr = []\n",
    "    templeData = []\n",
    "    templeDataStr = fileData.readlines()\n",
    "    for i in templeDataStr:\n",
    "        lineStr = i.split()\n",
    "        lineInt = []\n",
    "        for j in lineStr:\n",
    "            lineInt.append(int(j))\n",
    "        templeData.append(lineInt)\n",
    "    return templeData"
   ]
  },
  {
   "cell_type": "markdown",
   "id": "e6f71908",
   "metadata": {},
   "source": [
    "Problem Modeling:\n",
    "We create two classes called Temple and State. \n",
    "Temple objects contain size of the Temple (number of rows and columns), the coordinates of blocked cells, coodinates of double drugs and potions. It also have a method called checkIfValid() which gets a coordinates and tells if doctor can go there or not.\n",
    "State objects contain a list of all doctors coordinates, a Temple object, address of the parent State, state generation cost and a string which represent the whole State object in a compressed way. The hash string contains number of remaining potions and coordinates of all doctors, potions and double drugs. State also has two methods called __lt__() and checkIfGoulState(). __lt__() is used for min heap and chechIfGoulState() checks if all potions collected and all doctors are in the target cell or not, if yes then it will return True which means the state is goul state."
   ]
  },
  {
   "cell_type": "code",
   "execution_count": 253,
   "id": "d46aa0db",
   "metadata": {},
   "outputs": [],
   "source": [
    "class Temple:\n",
    "    def __init__(self, rows, cols):\n",
    "        self.rowCounts = rows\n",
    "        self.colCounts = cols\n",
    "        self.blockedCells = []\n",
    "        self.doubleDrugs = []\n",
    "        self.potions = []\n",
    "        \n",
    "    def checkIfValid(self, x, y):\n",
    "        if x < 0 or y < 0 or x >= self.rowCounts or y >= self.colCounts or [x, y] in self.blockedCells:\n",
    "            return False\n",
    "        return True\n",
    "\n",
    "class State:\n",
    "    def __init__(self, _doctors, _potions, _temple, _parent, cost):\n",
    "        self.doctors = _doctors\n",
    "        self.temple = _temple\n",
    "        self.parent = _parent\n",
    "        self.genCost = cost\n",
    "        self.AStarCost = 0\n",
    "        self.hashStr = str(len(self.temple.potions))\n",
    "        for i in self.doctors:\n",
    "            self.hashStr += str(i[0]) + str(i[1])\n",
    "        for i in self.temple.potions:\n",
    "            for j in i:\n",
    "                self.hashStr += str(int(j))\n",
    "        for i in self.temple.doubleDrugs:\n",
    "            for j in i:\n",
    "                self.hashStr += str(int(j))\n",
    "        \n",
    "    def checkDoctorArrive(self, x, y):\n",
    "        if len(self.temple.potions) == 0:\n",
    "            if x == self.temple.rowCounts - 1 and y == self.temple.colCounts - 1:\n",
    "                return True\n",
    "        return False\n",
    "    \n",
    "    def __lt__(self, other):\n",
    "        return self.AStarCost < other.AStarCost\n",
    "            \n",
    "    def checkIfGoulState(self):\n",
    "        if len(self.temple.potions) > 0:\n",
    "            return False\n",
    "        for i in self.doctors:\n",
    "            if i[0] != self.temple.rowCounts - 1 or i[1] != self.temple.colCounts - 1:\n",
    "                return False\n",
    "        return True"
   ]
  },
  {
   "cell_type": "markdown",
   "id": "53ff5963",
   "metadata": {},
   "source": [
    "The following function create initial state which contains all double drugs and potions and the only doctor is in the first cell (coordinates [0, 0]). The function gets a 2D array which contains temple's data."
   ]
  },
  {
   "cell_type": "code",
   "execution_count": 254,
   "id": "8ef408aa",
   "metadata": {},
   "outputs": [],
   "source": [
    "def getInitialState(templeData):\n",
    "    global totalSeenStates\n",
    "    potions = []\n",
    "    doubleDrugs = []\n",
    "    po, dr = templeData[1][0], templeData[1][1]\n",
    "    temple = Temple(templeData[0][0], templeData[0][1])\n",
    "    potions = templeData[2:po + 2:]\n",
    "    temple.doubleDrugs = templeData[po + 2:po + dr + 2:]\n",
    "    temple.blockedCells = templeData[po + dr + 3:po + dr + 3 + templeData[po + dr + 2][0]:]\n",
    "    temple.potions = potions.copy()\n",
    "    initialState = State([[0, 0]], potions, temple, None, 0)\n",
    "    return initialState"
   ]
  },
  {
   "cell_type": "markdown",
   "id": "1805fc51",
   "metadata": {},
   "source": [
    "The following functions just print data of a state. we will use them at the end of the process to show the steps and the final state and also check if the answer is correct or not. The second function prints all the steps and lists movements of all doctors."
   ]
  },
  {
   "cell_type": "code",
   "execution_count": 255,
   "id": "2b26d9d4",
   "metadata": {},
   "outputs": [],
   "source": [
    "def printState(state):\n",
    "    print(\"*\" * 40)\n",
    "    print(\"total seen states :\", totalSeenStates)\n",
    "    print(\"doctors :\", state.doctors)\n",
    "    print(\"potions :\", len(state.temple.potions))\n",
    "    print(\"blockedCells :\", state.temple.blockedCells)\n",
    "    print(\"doubleDrugs :\", state.temple.doubleDrugs)\n",
    "    print(\"cost :\", state.genCost)\n",
    "    print(\"hashStr : \", state.hashStr)\n",
    "    print(\"A* cost :\", state.AStarCost)\n",
    "    if state.parent != None:\n",
    "        printStateParents(state)\n",
    "    print(\"*\" * 40)\n",
    "\n",
    "def printStateParents(state):\n",
    "    print(\"#\" * 40)\n",
    "    while (state.parent != None):\n",
    "        state = state.parent\n",
    "        print(state.doctors)\n",
    "    print(\"#\" * 40)"
   ]
  },
  {
   "cell_type": "markdown",
   "id": "20e15c98",
   "metadata": {},
   "source": [
    "The following function does the unknown BFS. First we make a queue called toVisit and push initial state in it. Then for each state we expand it and push all new states to toVisit. Every time we push one state, we save its hashed string into a set called visited to avoid visiting states more than once. For each new state we check if it is goul state or not, if it's goul state we return and print it.\n",
    "The unknown BFS algorithm is faster than unknown IDS so BFS has less time complexity than IDS. Unknown BFS uses more memory while processing than unknown IDS so space complexity of BFS is more than IDS. both BFS and IDS are slower than A* algorithm and use more memory."
   ]
  },
  {
   "cell_type": "code",
   "execution_count": 256,
   "id": "75f82cb8",
   "metadata": {},
   "outputs": [],
   "source": [
    "def doUnknownBfs(templeData):\n",
    "    global totalSeenStates\n",
    "    neighbors = [[1, 0], [0, 1], [-1, 0], [0, -1]]\n",
    "    initialState = getInitialState(templeData)\n",
    "    visited = {initialState.hashStr}\n",
    "    toVisit = [initialState]\n",
    "    if [0, 0] in initialState.temple.doubleDrugs:\n",
    "        initialState.temple.doubleDrugs.remove([0, 0])\n",
    "        initialState.doctors.append([initialState.temple.rowCounts - 1, 0])\n",
    "    while len(toVisit) != 0:\n",
    "        for i in toVisit[0].doctors:\n",
    "            for j in neighbors:\n",
    "                if toVisit[0].temple.checkIfValid(i[0] + j[0], i[1] + j[1]):\n",
    "                    temple = copy.deepcopy(toVisit[0].temple)\n",
    "                    doctors = copy.deepcopy(toVisit[0].doctors)\n",
    "                    for k in doctors:\n",
    "                        if k == i:\n",
    "                            k[0] = i[0] + j[0]\n",
    "                            k[1] = i[1] + j[1]\n",
    "                            break\n",
    "                    if [i[0] + j[0], i[1] + j[1]] in temple.potions:\n",
    "                        temple.potions.remove([i[0] + j[0], i[1] + j[1]])\n",
    "                    if [i[0] + j[0], i[1] + j[1]] in temple.doubleDrugs:\n",
    "                        temple.doubleDrugs.remove([i[0] + j[0], i[1] + j[1]])\n",
    "                        doctors.append([temple.rowCounts - 1, 0])\n",
    "                    newState = State(doctors, [], temple, toVisit[0], toVisit[0].genCost + 1)\n",
    "                    totalSeenStates += 1\n",
    "                    if newState.checkIfGoulState():\n",
    "                        return newState\n",
    "                    if newState.hashStr not in visited:\n",
    "                        toVisit.append(newState)\n",
    "                        visited.add(newState.hashStr)\n",
    "        toVisit.pop(0)"
   ]
  },
  {
   "cell_type": "markdown",
   "id": "7c68f221",
   "metadata": {},
   "source": [
    "The following function does the unknown IDS. It does a DFS for all different depths.For each state we expand it and do a DFS on every new state. Every time we do DFS on one state, we save its hashed string into a set called visited to avoid visiting states more than once. For each new state we check if it is goul state or not, if it's goul state we return and print it.\n",
    "The unknown IDS algorithm is slower than unknown IDS so BFS has less time complexity than IDS. Unknown BFS uses more memory while processing than unknown IDS so space complexity of BFS is more than IDS. both BFS and IDS are slower than A* algorithm and use more memory."
   ]
  },
  {
   "cell_type": "code",
   "execution_count": 257,
   "id": "b7b027b7",
   "metadata": {},
   "outputs": [],
   "source": [
    "def ids(state, curDepth, maxDepth, visited):\n",
    "    global totalSeenStates\n",
    "    if curDepth >= maxDepth:\n",
    "        return None\n",
    "    if state.hashStr + str(state.genCost) in visited:\n",
    "        return None\n",
    "    visited.add(state.hashStr + str(state.genCost))\n",
    "    neighbors = [[1, 0], [0, 1], [-1, 0], [0, -1]]\n",
    "    for i in state.doctors:\n",
    "        for j in neighbors:\n",
    "            if state.temple.checkIfValid(i[0] + j[0], i[1] + j[1]):\n",
    "                temple = copy.deepcopy(state.temple)\n",
    "                doctors = copy.deepcopy(state.doctors)\n",
    "                for k in doctors:\n",
    "                    if k == i:\n",
    "                        k[0] = i[0] + j[0]\n",
    "                        k[1] = i[1] + j[1]\n",
    "                        if state.checkDoctorArrive(k[0], k[1]):\n",
    "                            doctors.remove(k)\n",
    "                        break\n",
    "                if [i[0] + j[0], i[1] + j[1]] in temple.potions:\n",
    "                    temple.potions.remove([i[0] + j[0], i[1] + j[1]])\n",
    "                if [i[0] + j[0], i[1] + j[1]] in temple.doubleDrugs:\n",
    "                    temple.doubleDrugs.remove([i[0] + j[0], i[1] + j[1]])\n",
    "                    doctors.append([temple.rowCounts - 1, 0])\n",
    "                newState = State(doctors, [], temple, state, state.genCost + 1)\n",
    "                totalSeenStates += 1\n",
    "                if newState.checkIfGoulState():\n",
    "                    return newState\n",
    "                returned = ids(newState, curDepth + 1, maxDepth, visited)\n",
    "                if returned != None:\n",
    "                    return returned\n",
    "    \n",
    "def doUnknownIds(templeData):\n",
    "    neighbors = [[1, 0], [0, 1], [-1, 0], [0, -1]]\n",
    "    initialState = getInitialState(templeData)\n",
    "    visited = set()\n",
    "    if [0, 0] in initialState.temple.doubleDrugs:\n",
    "        initialState.temple.doubleDrugs.remove([0, 0])\n",
    "        initialState.doctors.append([initialState.temple.rowCounts - 1, 0])\n",
    "    goulState = None\n",
    "    i = 1\n",
    "    while goulState == None:\n",
    "        visited.clear()\n",
    "        goulState = ids(initialState, 0, i, visited)\n",
    "        i += 1\n",
    "    return goulState"
   ]
  },
  {
   "cell_type": "markdown",
   "id": "c2adbe36",
   "metadata": {},
   "source": [
    "The following functions are for A* algorithm. The algorithm is similar to unknown BFS. We just push new state in a min heap so each time we will get the state with least heuristic cost to expand. the heuristic fucntion is the total of minimum distanse of doctors to target or a potions. the function is consistent..\n",
    "Both BFS and IDS are slower than A* algorithm and use more memory. "
   ]
  },
  {
   "cell_type": "code",
   "execution_count": 258,
   "id": "88598d2b",
   "metadata": {},
   "outputs": [],
   "source": [
    "def evaluationF(state):\n",
    "    aStarCost = 0\n",
    "    for i in state.doctors:\n",
    "        minPotion = 999999\n",
    "        for j in state.temple.potions:\n",
    "            distance = abs(i[0] - j[0]) + abs(i[1] - j[1])\n",
    "            if distance < minPotion:\n",
    "                minPotion = distance\n",
    "        aStarCost += min((abs(state.temple.rowCounts - 1 - i[0]) + abs(state.temple.colCounts - 1 - i[1])), minPotion)\n",
    "    aStarCost = alpha * aStarCost\n",
    "    state.AStarCost = aStarCost + state.genCost\n",
    "        \n",
    "def doKnownAStar(templeData):\n",
    "    global totalSeenStates\n",
    "    neighbors = [[1, 0], [0, 1], [-1, 0], [0, -1]]\n",
    "    initialState = getInitialState(templeData)\n",
    "    visited = {initialState.hashStr}\n",
    "    toVisit = [initialState]\n",
    "    if [0, 0] in initialState.temple.doubleDrugs:\n",
    "        initialState.temple.doubleDrugs.remove([0, 0])\n",
    "        initialState.doctors.append([initialState.temple.rowCounts - 1, 0])\n",
    "    evaluationF(initialState)\n",
    "    while len(toVisit) != 0:\n",
    "        toVisit0 = copy.deepcopy(toVisit[0])\n",
    "        toVisit.pop(0)\n",
    "        for i in toVisit0.doctors:\n",
    "            for j in neighbors:\n",
    "                if toVisit0.temple.checkIfValid(i[0] + j[0], i[1] + j[1]):\n",
    "                    temple = copy.deepcopy(toVisit0.temple)\n",
    "                    doctors = copy.deepcopy(toVisit0.doctors)\n",
    "                    for k in doctors:\n",
    "                        if k == i:\n",
    "                            k[0] = i[0] + j[0]\n",
    "                            k[1] = i[1] + j[1]\n",
    "                            break\n",
    "                    if [i[0] + j[0], i[1] + j[1]] in temple.potions:\n",
    "                        temple.potions.remove([i[0] + j[0], i[1] + j[1]])\n",
    "                    if [i[0] + j[0], i[1] + j[1]] in temple.doubleDrugs:\n",
    "                        temple.doubleDrugs.remove([i[0] + j[0], i[1] + j[1]])\n",
    "                        doctors.append([temple.rowCounts - 1, 0])\n",
    "                    newState = State(doctors, [], temple, toVisit0, toVisit0.genCost + 1)\n",
    "                    totalSeenStates += 1\n",
    "                    evaluationF(newState)\n",
    "                    if newState.checkIfGoulState():\n",
    "                        return newState\n",
    "                    if newState.hashStr not in visited:\n",
    "                        bisect.insort(toVisit, newState)\n",
    "                        visited.add(newState.hashStr)"
   ]
  },
  {
   "cell_type": "markdown",
   "id": "2506dd2c",
   "metadata": {},
   "source": [
    "The following function decide which algorithm "
   ]
  },
  {
   "cell_type": "code",
   "execution_count": 259,
   "id": "682691e4",
   "metadata": {},
   "outputs": [],
   "source": [
    "def solve(algorithm, filePath):\n",
    "    templeData = readFile(filePath)\n",
    "    if algorithm == \"BFS\":\n",
    "        return doUnknownBfs(templeData)\n",
    "    if algorithm == \"IDS\":\n",
    "        return doUnknownIds(templeData)\n",
    "    if algorithm == \"ASTAR\":\n",
    "        return doKnownAStar(templeData)"
   ]
  },
  {
   "cell_type": "code",
   "execution_count": 260,
   "id": "07c0342c",
   "metadata": {},
   "outputs": [],
   "source": [
    "def main():\n",
    "    startTime = time.time()\n",
    "    printState(solve(algorithms[algoType], \"Tests/test\" + str(testNum) + \".in\"))\n",
    "    endTime = time.time()\n",
    "    print(\"Time: \", '{:.5f}'.format((endTime - startTime) * 1000), \" ms\")"
   ]
  },
  {
   "cell_type": "code",
   "execution_count": 261,
   "id": "92c053df",
   "metadata": {},
   "outputs": [
    {
     "name": "stdout",
     "output_type": "stream",
     "text": [
      "****************************************\n",
      "total seen states : 27258\n",
      "doctors : [[5, 5], [5, 5]]\n",
      "potions : 0\n",
      "blockedCells : [[0, 2], [1, 1], [4, 1], [3, 0]]\n",
      "doubleDrugs : [[4, 2]]\n",
      "cost : 19\n",
      "hashStr :  0555542\n",
      "A* cost : 19.0\n",
      "########################################\n",
      "[[4, 5], [5, 5]]\n",
      "[[3, 5], [5, 5]]\n",
      "[[2, 5], [5, 5]]\n",
      "[[1, 5], [5, 5]]\n",
      "[[1, 4], [5, 5]]\n",
      "[[1, 3], [5, 5]]\n",
      "[[1, 2], [5, 5]]\n",
      "[[2, 2], [5, 5]]\n",
      "[[2, 2], [5, 4]]\n",
      "[[2, 2], [5, 3]]\n",
      "[[2, 2], [4, 3]]\n",
      "[[2, 2], [5, 3]]\n",
      "[[2, 2], [5, 2]]\n",
      "[[2, 2], [5, 1]]\n",
      "[[2, 2], [5, 0]]\n",
      "[[2, 1]]\n",
      "[[2, 0]]\n",
      "[[1, 0]]\n",
      "[[0, 0]]\n",
      "########################################\n",
      "****************************************\n",
      "Time:  4678.44105  ms\n"
     ]
    }
   ],
   "source": [
    "main()"
   ]
  },
  {
   "cell_type": "code",
   "execution_count": null,
   "id": "5b0e4ca2",
   "metadata": {},
   "outputs": [],
   "source": []
  },
  {
   "cell_type": "code",
   "execution_count": null,
   "id": "58066048",
   "metadata": {},
   "outputs": [],
   "source": []
  },
  {
   "cell_type": "code",
   "execution_count": null,
   "id": "54e61bc9",
   "metadata": {},
   "outputs": [],
   "source": []
  }
 ],
 "metadata": {
  "kernelspec": {
   "display_name": "Python 3 (ipykernel)",
   "language": "python",
   "name": "python3"
  },
  "language_info": {
   "codemirror_mode": {
    "name": "ipython",
    "version": 3
   },
   "file_extension": ".py",
   "mimetype": "text/x-python",
   "name": "python",
   "nbconvert_exporter": "python",
   "pygments_lexer": "ipython3",
   "version": "3.9.6"
  }
 },
 "nbformat": 4,
 "nbformat_minor": 5
}
